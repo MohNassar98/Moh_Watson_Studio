{
 "cells": [
  {
   "cell_type": "code",
   "execution_count": 1,
   "id": "3e894f78-f62e-4764-a078-3b2550555d95",
   "metadata": {
    "id": "d51931ae-f0ac-4d4f-9f91-5859403f55c8",
    "tags": []
   },
   "outputs": [
    {
     "name": "stdout",
     "output_type": "stream",
     "text": [
      "hello world. This is notebook 1\n"
     ]
    }
   ],
   "source": [
    "print (\"hello world. This is notebook 1\")"
   ]
  },
  {
   "cell_type": "code",
   "execution_count": 1,
   "id": "10322b62-1756-428f-8f88-fab2465a4e50",
   "metadata": {
    "id": "10322b62-1756-428f-8f88-fab2465a4e50",
    "tags": []
   },
   "outputs": [
    {
     "name": "stdout",
     "output_type": "stream",
     "text": [
      "This notebook was changed by a collaborator.\n"
     ]
    }
   ],
   "source": [
    "print (\"This notebook was changed by a collaborator.\")"
   ]
  },
  {
   "cell_type": "code",
   "execution_count": null,
   "id": "385ac950-350d-4386-ba99-37304be3f55c",
   "metadata": {
    "id": "385ac950-350d-4386-ba99-37304be3f55c"
   },
   "outputs": [],
   "source": []
  }
 ],
 "metadata": {
  "kernelspec": {
   "display_name": "Python 3.9",
   "language": "python",
   "name": "python3"
  },
  "language_info": {
   "codemirror_mode": {
    "name": "ipython",
    "version": 3
   },
   "file_extension": ".py",
   "mimetype": "text/x-python",
   "name": "python",
   "nbconvert_exporter": "python",
   "pygments_lexer": "ipython3",
   "version": "3.9.7"
  }
 },
 "nbformat": 4,
 "nbformat_minor": 5
}
