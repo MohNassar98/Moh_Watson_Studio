{
 "cells": [
  {
   "cell_type": "code",
   "execution_count": 1,
   "id": "30d3a0b9-20d0-4e9a-950b-c78dfbc07735",
   "metadata": {
    "id": "2333972d-e383-4ddd-8d8b-240c8267d612",
    "tags": []
   },
   "outputs": [
    {
     "name": "stdout",
     "output_type": "stream",
     "text": [
      "hello world. This is notebook 2\n"
     ]
    }
   ],
   "source": [
    "print (\"hello world. This is notebook 2\")"
   ]
  },
  {
   "cell_type": "code",
   "execution_count": null,
   "id": "2a30db8f-7226-4ee6-ba32-672bc25e9e5c",
   "metadata": {
    "id": "2a30db8f-7226-4ee6-ba32-672bc25e9e5c"
   },
   "outputs": [],
   "source": []
  }
 ],
 "metadata": {
  "kernelspec": {
   "display_name": "Python 3.9",
   "language": "python",
   "name": "python3"
  },
  "language_info": {
   "codemirror_mode": {
    "name": "ipython",
    "version": 3
   },
   "file_extension": ".py",
   "mimetype": "text/x-python",
   "name": "python",
   "nbconvert_exporter": "python",
   "pygments_lexer": "ipython3",
   "version": "3.9.7"
  }
 },
 "nbformat": 4,
 "nbformat_minor": 5
}
